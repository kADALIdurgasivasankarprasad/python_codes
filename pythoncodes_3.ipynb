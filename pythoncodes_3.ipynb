{
  "cells": [
    {
      "cell_type": "markdown",
      "metadata": {
        "id": "view-in-github",
        "colab_type": "text"
      },
      "source": [
        "<a href=\"https://colab.research.google.com/github/kADALIdurgasivasankarprasad/python_codes/blob/main/pythoncodes_3.ipynb\" target=\"_parent\"><img src=\"https://colab.research.google.com/assets/colab-badge.svg\" alt=\"Open In Colab\"/></a>"
      ]
    },
    {
      "cell_type": "code",
      "execution_count": null,
      "metadata": {
        "colab": {
          "base_uri": "https://localhost:8080/"
        },
        "id": "g8ZrukiNaVxT",
        "outputId": "5a384913-93aa-491d-8a2c-13c2129e7260"
      },
      "outputs": [
        {
          "name": "stdout",
          "output_type": "stream",
          "text": [
            "1 2 3 4\n",
            "2 3 4 5\n",
            "3 4 5 6\n",
            "{3, 4}\n"
          ]
        }
      ],
      "source": [
        "a = set(map(int,input().split()))\n",
        "b = set(map(int,input().split()))\n",
        "c = set(map(int,input().split()))\n",
        "print(a&b&c)"
      ]
    },
    {
      "cell_type": "code",
      "execution_count": null,
      "metadata": {
        "colab": {
          "base_uri": "https://localhost:8080/"
        },
        "id": "NKmIML1aadeW",
        "outputId": "ea0937d3-3657-4763-d1e7-53499185725e"
      },
      "outputs": [
        {
          "name": "stdout",
          "output_type": "stream",
          "text": [
            "1 2 3 2 4 5 1\n",
            "{1, 2}\n"
          ]
        }
      ],
      "source": [
        "a=list(map(int,input().split()))\n",
        "b =set()\n",
        "c=set()\n",
        "for i in a:\n",
        "  if i  not in b:\n",
        "    b.add(i)\n",
        "  else:\n",
        "    c.add(i)\n",
        "print(c)\n"
      ]
    },
    {
      "cell_type": "code",
      "execution_count": null,
      "metadata": {
        "colab": {
          "base_uri": "https://localhost:8080/"
        },
        "id": "CTGSlT_Qada8",
        "outputId": "319b5f6b-1999-42c7-bed3-a00ba07fd365"
      },
      "outputs": [
        {
          "name": "stdout",
          "output_type": "stream",
          "text": [
            "java\n",
            "1\n"
          ]
        }
      ],
      "source": [
        "a = input()\n",
        "a.lower()\n",
        "b = 'aeiou'\n",
        "# count=0\n",
        "# for i in b:\n",
        "#   if i in a:\n",
        "#     count +=  1\n",
        "# print(count)\n",
        "s=set()\n",
        "for i in a:\n",
        "  if i in b:\n",
        "    s.add(i)\n",
        "print(len(s))\n",
        "\n"
      ]
    },
    {
      "cell_type": "code",
      "execution_count": null,
      "metadata": {
        "colab": {
          "base_uri": "https://localhost:8080/"
        },
        "id": "1dVA8SAaadYF",
        "outputId": "7d6bdf24-45a3-4973-b580-398610c0c16b"
      },
      "outputs": [
        {
          "name": "stdout",
          "output_type": "stream",
          "text": [
            "3\n",
            "1 2 3\n",
            "4 5 6\n",
            "5 6\n",
            "{1, 2, 3, 4, 5, 6}\n"
          ]
        }
      ],
      "source": [
        "n = int(input())\n",
        "l =[]\n",
        "s=set()\n",
        "for i in range(n):\n",
        "  l.append(list(map(int,input().split())))\n",
        "  for i in l:\n",
        "    for j in i:\n",
        "      s.add(j)\n",
        "print(s)\n"
      ]
    },
    {
      "cell_type": "code",
      "execution_count": null,
      "metadata": {
        "colab": {
          "base_uri": "https://localhost:8080/"
        },
        "id": "Y_a1vd_vadVd",
        "outputId": "170e5b05-af20-481a-dd39-c3cf06196df3"
      },
      "outputs": [
        {
          "name": "stdout",
          "output_type": "stream",
          "text": [
            "hello\n",
            "world\n",
            "true\n"
          ]
        }
      ],
      "source": [
        "a = input()\n",
        "b = input()\n",
        "for i in a:\n",
        "  if i in b:\n",
        "    print(\"true\")\n",
        "    break\n",
        "else:\n",
        "  print(\"false\")\n"
      ]
    },
    {
      "cell_type": "code",
      "execution_count": null,
      "metadata": {
        "colab": {
          "base_uri": "https://localhost:8080/"
        },
        "id": "xxIkqyRLadSa",
        "outputId": "6f683b94-5e71-40d3-8082-c570922acf53"
      },
      "outputs": [
        {
          "name": "stdout",
          "output_type": "stream",
          "text": [
            "1 2 3\n",
            "4 5 6\n",
            "7 \n",
            "[(1, 6), (2, 5), (3, 4)]\n"
          ]
        }
      ],
      "source": [
        "a =set(map(int,input().split()))\n",
        "b = set(map(int,input().split()))\n",
        "k = int(input())\n",
        "l =[]\n",
        "for i in a:\n",
        "  for j in b:\n",
        "    if i+j == k:\n",
        "      l.append((i,j))\n",
        "print(l)"
      ]
    },
    {
      "cell_type": "code",
      "execution_count": null,
      "metadata": {
        "colab": {
          "base_uri": "https://localhost:8080/"
        },
        "id": "FnE1KtnvadPe",
        "outputId": "37bd74ad-a6d6-4044-b3c4-26f1eda8095b"
      },
      "outputs": [
        {
          "name": "stdout",
          "output_type": "stream",
          "text": [
            "a b c d\n",
            "deed\n",
            "False\n"
          ]
        }
      ],
      "source": [
        "a =set(map(str,input().split()))\n",
        "b =input()\n",
        "s= set()\n",
        "for i in b:\n",
        "  if i in a:\n",
        "    s.add(i)\n",
        "if s in a:\n",
        "  print(True)\n",
        "else:\n",
        "  print(False)\n",
        "#or else we can use issubset method"
      ]
    },
    {
      "cell_type": "code",
      "execution_count": null,
      "metadata": {
        "colab": {
          "base_uri": "https://localhost:8080/"
        },
        "id": "IXJYAnWIadMm",
        "outputId": "68ac7860-c5a3-41ad-927e-b8e9eb93a694"
      },
      "outputs": [
        {
          "name": "stdout",
          "output_type": "stream",
          "text": [
            "prasad\n",
            "{'p': 1, 'r': 1, 'a': 2, 's': 1, 'd': 1}\n"
          ]
        }
      ],
      "source": [
        "a = input()\n",
        "dic = {}\n",
        "for i in a:\n",
        "  if i in dic:\n",
        "    dic[i] += 1\n",
        "  else:\n",
        "    dic[i] = 1\n",
        "print(dic)"
      ]
    },
    {
      "cell_type": "code",
      "execution_count": null,
      "metadata": {
        "colab": {
          "base_uri": "https://localhost:8080/"
        },
        "id": "u_2S6TdIadG8",
        "outputId": "3e93d801-9d19-4495-8e77-dd15f658a543"
      },
      "outputs": [
        {
          "name": "stdout",
          "output_type": "stream",
          "text": [
            "{3: 'p', 4: 'r', 2: 'a', 5: 's', 1: 'd'}\n"
          ]
        }
      ],
      "source": [
        "a = {'p': 3, 'r': 4, 'a': 2, 's': 5, 'd': 1}\n",
        "d ={}\n",
        "for key,value in a.items():\n",
        "  d[value] = key\n",
        "print(d)"
      ]
    },
    {
      "cell_type": "code",
      "execution_count": null,
      "metadata": {
        "colab": {
          "base_uri": "https://localhost:8080/"
        },
        "id": "d7y5i4S3adES",
        "outputId": "2ac625d1-83ea-466e-d6f1-5c5bea63bb28"
      },
      "outputs": [
        {
          "name": "stdout",
          "output_type": "stream",
          "text": [
            "1 2 3\n",
            "2 3 4\n",
            "3 4 5\n",
            "3\n"
          ]
        }
      ],
      "source": [
        "a = set(map(int,input().split()))\n",
        "b = set(map(int,input().split()))\n",
        "c = set(map(int,input().split()))\n",
        "print(len(a&b | b&c | a&c))"
      ]
    },
    {
      "cell_type": "code",
      "execution_count": null,
      "metadata": {
        "colab": {
          "base_uri": "https://localhost:8080/"
        },
        "id": "2sLtx-8aadBO",
        "outputId": "ac9a2124-a54b-4da9-9eec-33677277ed99"
      },
      "outputs": [
        {
          "name": "stdout",
          "output_type": "stream",
          "text": [
            "{'a': 1, 'b': 2, 'c': 3, 'd': 4}\n"
          ]
        }
      ],
      "source": [
        " a={\"a\":1,\"b\":2}\n",
        " b={\"c\":1,\"d\":2}\n",
        " res =[]\n",
        " for key in a.keys():\n",
        "   if key in b.keys():\n",
        "     res.append"
      ]
    },
    {
      "cell_type": "code",
      "execution_count": null,
      "metadata": {
        "colab": {
          "base_uri": "https://localhost:8080/"
        },
        "id": "4oubQicUac_A",
        "outputId": "b6743450-453b-4a15-de01-191c9db3d470"
      },
      "outputs": [
        {
          "name": "stdout",
          "output_type": "stream",
          "text": [
            "[4, 16]\n"
          ]
        }
      ],
      "source": [
        "#list comprehension\n",
        "a = [x**2 for x in range(1,5) if x%2==0]\n",
        "print(a)"
      ]
    },
    {
      "cell_type": "code",
      "execution_count": null,
      "metadata": {
        "colab": {
          "base_uri": "https://localhost:8080/"
        },
        "id": "kNMaVqVYac8S",
        "outputId": "2cede527-8c4e-476e-f80b-caf3527b03ba"
      },
      "outputs": [
        {
          "name": "stdout",
          "output_type": "stream",
          "text": [
            "1 1 2 3 4 4 5  5 6\n",
            "{1, 4, 36, 9, 16, 25}\n"
          ]
        }
      ],
      "source": [
        "#squres of unique values\n",
        "a = set(map(int,input().split()))\n",
        "\n",
        "n = {i**2 for i in a}\n",
        "print(n)"
      ]
    },
    {
      "cell_type": "code",
      "execution_count": null,
      "metadata": {
        "colab": {
          "base_uri": "https://localhost:8080/"
        },
        "id": "EyCPj3clac5R",
        "outputId": "063a91ef-d4d5-4813-c8a5-cd15d27efee0"
      },
      "outputs": [
        {
          "name": "stdout",
          "output_type": "stream",
          "text": [
            "{1: 1, 2: 4, 3: 9, 4: 16}\n"
          ]
        }
      ],
      "source": [
        "a = {i:i**2 for i in range(1,5)}\n",
        "print(a)"
      ]
    },
    {
      "cell_type": "code",
      "execution_count": null,
      "metadata": {
        "colab": {
          "base_uri": "https://localhost:8080/"
        },
        "id": "N-duL4Ojac2W",
        "outputId": "2249a711-cb61-4a99-8c2d-461180afd7ef"
      },
      "outputs": [
        {
          "name": "stdout",
          "output_type": "stream",
          "text": [
            "[(1, 4), (1, 9), (4, 6), (4, 11), (6, 9), (9, 11)]\n"
          ]
        }
      ],
      "source": [
        "a =[1,4,6,9,11]\n",
        "res = [(a[i],a[j]) for i in range(len(a)) for j in range(i+1,len(a)) if (a[i]+a[j])%5==0]\n",
        "print(res)"
      ]
    },
    {
      "cell_type": "code",
      "execution_count": null,
      "metadata": {
        "colab": {
          "base_uri": "https://localhost:8080/"
        },
        "id": "ueVrOKkzaczE",
        "outputId": "f1866d6a-42ce-4e25-819b-5f3cd95fc897"
      },
      "outputs": [
        {
          "name": "stdout",
          "output_type": "stream",
          "text": [
            "[1, 9, 25]\n"
          ]
        }
      ],
      "source": [
        "a = [[1,2],[3,4],[5,6]]\n",
        "res = [ j**2 for i in a for j in i if j%2!=0]\n",
        "print(res)"
      ]
    },
    {
      "cell_type": "code",
      "execution_count": null,
      "metadata": {
        "colab": {
          "base_uri": "https://localhost:8080/"
        },
        "id": "pRkag2Svacqs",
        "outputId": "6c046271-809f-4e6d-bc7d-3d609fb60a8c"
      },
      "outputs": [
        {
          "name": "stdout",
          "output_type": "stream",
          "text": [
            "['pyth*n', 'j*v*']\n"
          ]
        }
      ],
      "source": [
        "a =[\"python\",\"java\"]\n",
        "b = \"aeiou\"\n",
        "res = [ \"\".join(\"*\" if j in b else j for j in i) for i in a]\n",
        "print(res)"
      ]
    },
    {
      "cell_type": "code",
      "execution_count": null,
      "metadata": {
        "id": "TiorooCtachj"
      },
      "outputs": [],
      "source": [
        "#file handling in python\n"
      ]
    },
    {
      "cell_type": "code",
      "execution_count": null,
      "metadata": {
        "colab": {
          "base_uri": "https://localhost:8080/"
        },
        "id": "WZ66ZzmcfDfN",
        "outputId": "09e91550-509b-45a5-a8dc-a178dc483903"
      },
      "outputs": [
        {
          "name": "stdout",
          "output_type": "stream",
          "text": [
            "4\n",
            "0\n",
            "cannot divide a number by zero\n"
          ]
        }
      ],
      "source": [
        "#exception handling\n",
        "a = int(input())\n",
        "b = int(input())\n",
        "try:\n",
        "  print(a/b)\n",
        "except :\n",
        "  print(\"cannot divide a number by zero\")"
      ]
    },
    {
      "cell_type": "code",
      "execution_count": null,
      "metadata": {
        "colab": {
          "base_uri": "https://localhost:8080/"
        },
        "id": "lObAPGtDfDbw",
        "outputId": "f0660f6d-74cc-4d68-9ad5-981c5becea16"
      },
      "outputs": [
        {
          "name": "stdout",
          "output_type": "stream",
          "text": [
            "1\n",
            "1\n"
          ]
        }
      ],
      "source": [
        "\n",
        "n = int(input())\n",
        "if n<0:\n",
        "  raise Exception(\"number is negative\")\n",
        "else:\n",
        "  print(n)\n"
      ]
    },
    {
      "cell_type": "code",
      "execution_count": null,
      "metadata": {
        "colab": {
          "base_uri": "https://localhost:8080/"
        },
        "id": "rdCqNJK_fDST",
        "outputId": "8a9436f6-72e2-45d3-bd7e-b07e9fc4e80c"
      },
      "outputs": [
        {
          "name": "stdout",
          "output_type": "stream",
          "text": [
            "4\n",
            "0\n",
            "/\n",
            "cannot divide a number by zero division by zero\n"
          ]
        }
      ],
      "source": [
        "try:\n",
        "  a = int(input())\n",
        "  b = int(input())\n",
        "  o = input()\n",
        "  if (o==\"+\"):\n",
        "    print(a+b)\n",
        "  elif (o==\"-\"):\n",
        "    print(a-b)\n",
        "  elif (o==\"*\"):\n",
        "    print(a*b)\n",
        "  elif (o==\"/\"):\n",
        "    print(a/b)\n",
        "  else:\n",
        "    print(\"valid operator4\")\n",
        "except (ZeroDivisionError) as e:\n",
        "  print(\"cannot divide a number by zero\",e)\n"
      ]
    },
    {
      "cell_type": "code",
      "execution_count": null,
      "metadata": {
        "colab": {
          "background_save": true,
          "base_uri": "https://localhost:8080/"
        },
        "id": "PyHXax9WfDPM",
        "outputId": "3e00e24c-dedf-498e-a355-faafe57a5b41"
      },
      "outputs": [
        {
          "name": "stderr",
          "output_type": "stream",
          "text": [
            "ERROR:root:Internal Python error in the inspect module.\n",
            "Below is the traceback from this internal error.\n",
            "\n"
          ]
        },
        {
          "name": "stdout",
          "output_type": "stream",
          "text": [
            "Traceback (most recent call last):\n",
            "  File \"/usr/local/lib/python3.11/dist-packages/IPython/core/interactiveshell.py\", line 3553, in run_code\n",
            "    exec(code_obj, self.user_global_ns, self.user_ns)\n",
            "  File \"/tmp/ipython-input-1358810928.py\", line 11, in <cell line: 0>\n",
            "    print(fact(n))\n",
            "          ^^^^^^^\n",
            "  File \"/tmp/ipython-input-1358810928.py\", line 5, in fact\n",
            "    return n*fact(n-1)\n",
            "             ^^^^^^^^^\n",
            "  File \"/tmp/ipython-input-1358810928.py\", line 5, in fact\n",
            "    return n*fact(n-1)\n",
            "             ^^^^^^^^^\n",
            "  File \"/tmp/ipython-input-1358810928.py\", line 5, in fact\n",
            "    return n*fact(n-1)\n",
            "             ^^^^^^^^^\n",
            "  [Previous line repeated 9999971 more times]\n",
            "RecursionError: maximum recursion depth exceeded\n",
            "\n",
            "During handling of the above exception, another exception occurred:\n",
            "\n",
            "Traceback (most recent call last):\n",
            "  File \"/usr/local/lib/python3.11/dist-packages/IPython/core/interactiveshell.py\", line 2099, in showtraceback\n",
            "    stb = value._render_traceback_()\n",
            "          ^^^^^^^^^^^^^^^^^^^^^^^^\n",
            "AttributeError: 'RecursionError' object has no attribute '_render_traceback_'\n",
            "\n",
            "During handling of the above exception, another exception occurred:\n",
            "\n",
            "Traceback (most recent call last):\n",
            "  File \"/usr/local/lib/python3.11/dist-packages/IPython/core/ultratb.py\", line 1101, in get_records\n",
            "    return _fixed_getinnerframes(etb, number_of_lines_of_context, tb_offset)\n",
            "           ^^^^^^^^^^^^^^^^^^^^^^^^^^^^^^^^^^^^^^^^^^^^^^^^^^^^^^^^^^^^^^^^^\n",
            "  File \"/usr/local/lib/python3.11/dist-packages/IPython/core/ultratb.py\", line 248, in wrapped\n",
            "    return f(*args, **kwargs)\n",
            "           ^^^^^^^^^^^^^^^^^^\n",
            "  File \"/usr/local/lib/python3.11/dist-packages/IPython/core/ultratb.py\", line 281, in _fixed_getinnerframes\n",
            "    records = fix_frame_records_filenames(inspect.getinnerframes(etb, context))\n",
            "                                          ^^^^^^^^^^^^^^^^^^^^^^^^^^^^^^^^^^^^\n",
            "  File \"/usr/lib/python3.11/inspect.py\", line 1739, in getinnerframes\n",
            "    traceback_info = getframeinfo(tb, context)\n",
            "                     ^^^^^^^^^^^^^^^^^^^^^^^^^\n",
            "  File \"/usr/lib/python3.11/inspect.py\", line 1684, in getframeinfo\n",
            "    filename = getsourcefile(frame) or getfile(frame)\n",
            "               ^^^^^^^^^^^^^^^^^^^^\n",
            "  File \"/usr/lib/python3.11/inspect.py\", line 948, in getsourcefile\n",
            "    module = getmodule(object, filename)\n",
            "             ^^^^^^^^^^^^^^^^^^^^^^^^^^^\n",
            "  File \"/usr/lib/python3.11/inspect.py\", line 988, in getmodule\n",
            "    if ismodule(module) and hasattr(module, '__file__'):\n",
            "                            ^^^^^^^^^^^^^^^^^^^^^^^^^^^\n",
            "KeyboardInterrupt\n"
          ]
        },
        {
          "name": "stderr",
          "output_type": "stream",
          "text": [
            "ERROR:root:Internal Python error in the inspect module.\n",
            "Below is the traceback from this internal error.\n",
            "\n"
          ]
        },
        {
          "name": "stdout",
          "output_type": "stream",
          "text": [
            "Traceback (most recent call last):\n",
            "  File \"/usr/local/lib/python3.11/dist-packages/IPython/core/interactiveshell.py\", line 3553, in run_code\n",
            "    exec(code_obj, self.user_global_ns, self.user_ns)\n",
            "  File \"/tmp/ipython-input-1358810928.py\", line 11, in <cell line: 0>\n",
            "    print(fact(n))\n",
            "          ^^^^^^^\n",
            "  File \"/tmp/ipython-input-1358810928.py\", line 5, in fact\n",
            "    return n*fact(n-1)\n",
            "             ^^^^^^^^^\n",
            "  File \"/tmp/ipython-input-1358810928.py\", line 5, in fact\n",
            "    return n*fact(n-1)\n",
            "             ^^^^^^^^^\n",
            "  File \"/tmp/ipython-input-1358810928.py\", line 5, in fact\n",
            "    return n*fact(n-1)\n",
            "             ^^^^^^^^^\n",
            "  [Previous line repeated 9999971 more times]\n",
            "RecursionError: maximum recursion depth exceeded\n",
            "\n",
            "During handling of the above exception, another exception occurred:\n",
            "\n",
            "Traceback (most recent call last):\n",
            "  File \"/usr/local/lib/python3.11/dist-packages/IPython/core/interactiveshell.py\", line 2099, in showtraceback\n",
            "    stb = value._render_traceback_()\n",
            "          ^^^^^^^^^^^^^^^^^^^^^^^^\n",
            "AttributeError: 'RecursionError' object has no attribute '_render_traceback_'\n",
            "\n",
            "During handling of the above exception, another exception occurred:\n",
            "\n",
            "Traceback (most recent call last):\n",
            "  File \"/usr/local/lib/python3.11/dist-packages/IPython/core/interactiveshell.py\", line 3473, in run_ast_nodes\n",
            "    if (await self.run_code(code, result,  async_=asy)):\n",
            "        ^^^^^^^^^^^^^^^^^^^^^^^^^^^^^^^^^^^^^^^^^^^^^^\n",
            "  File \"/usr/local/lib/python3.11/dist-packages/IPython/core/interactiveshell.py\", line 3575, in run_code\n",
            "    self.showtraceback(running_compiled_code=True)\n",
            "  File \"/usr/local/lib/python3.11/dist-packages/IPython/core/interactiveshell.py\", line 2101, in showtraceback\n",
            "    stb = self.InteractiveTB.structured_traceback(etype,\n",
            "          ^^^^^^^^^^^^^^^^^^^^^^^^^^^^^^^^^^^^^^^^^^^^^^\n",
            "  File \"/usr/local/lib/python3.11/dist-packages/IPython/core/ultratb.py\", line 1367, in structured_traceback\n",
            "    return FormattedTB.structured_traceback(\n",
            "           ^^^^^^^^^^^^^^^^^^^^^^^^^^^^^^^^^\n",
            "  File \"/usr/local/lib/python3.11/dist-packages/IPython/core/ultratb.py\", line 1267, in structured_traceback\n",
            "    return VerboseTB.structured_traceback(\n",
            "           ^^^^^^^^^^^^^^^^^^^^^^^^^^^^^^^\n",
            "  File \"/usr/local/lib/python3.11/dist-packages/IPython/core/ultratb.py\", line 1124, in structured_traceback\n",
            "    formatted_exception = self.format_exception_as_a_whole(etype, evalue, etb, number_of_lines_of_context,\n",
            "                          ^^^^^^^^^^^^^^^^^^^^^^^^^^^^^^^^^^^^^^^^^^^^^^^^^^^^^^^^^^^^^^^^^^^^^^^^^^^^^^^^\n",
            "  File \"/usr/local/lib/python3.11/dist-packages/IPython/core/ultratb.py\", line 1082, in format_exception_as_a_whole\n",
            "    last_unique, recursion_repeat = find_recursion(orig_etype, evalue, records)\n",
            "                                    ^^^^^^^^^^^^^^^^^^^^^^^^^^^^^^^^^^^^^^^^^^^\n",
            "  File \"/usr/local/lib/python3.11/dist-packages/IPython/core/ultratb.py\", line 381, in find_recursion\n",
            "    if not is_recursion_error(etype, value, records):\n",
            "           ^^^^^^^^^^^^^^^^^^^^^^^^^^^^^^^^^^^^^^^^^\n",
            "  File \"/usr/local/lib/python3.11/dist-packages/IPython/core/ultratb.py\", line 368, in is_recursion_error\n",
            "    and len(records) > _FRAME_RECURSION_LIMIT\n",
            "        ^^^^^^^^^^^^\n",
            "TypeError: object of type 'NoneType' has no len()\n",
            "\n",
            "During handling of the above exception, another exception occurred:\n",
            "\n",
            "Traceback (most recent call last):\n",
            "  File \"/usr/local/lib/python3.11/dist-packages/IPython/core/interactiveshell.py\", line 2099, in showtraceback\n",
            "    stb = value._render_traceback_()\n",
            "          ^^^^^^^^^^^^^^^^^^^^^^^^\n",
            "AttributeError: 'TypeError' object has no attribute '_render_traceback_'\n",
            "\n",
            "During handling of the above exception, another exception occurred:\n",
            "\n",
            "Traceback (most recent call last):\n",
            "  File \"/usr/local/lib/python3.11/dist-packages/IPython/core/ultratb.py\", line 1101, in get_records\n",
            "    return _fixed_getinnerframes(etb, number_of_lines_of_context, tb_offset)\n",
            "           ^^^^^^^^^^^^^^^^^^^^^^^^^^^^^^^^^^^^^^^^^^^^^^^^^^^^^^^^^^^^^^^^^\n",
            "  File \"/usr/local/lib/python3.11/dist-packages/IPython/core/ultratb.py\", line 248, in wrapped\n",
            "    return f(*args, **kwargs)\n",
            "           ^^^^^^^^^^^^^^^^^^\n",
            "  File \"/usr/local/lib/python3.11/dist-packages/IPython/core/ultratb.py\", line 281, in _fixed_getinnerframes\n",
            "    records = fix_frame_records_filenames(inspect.getinnerframes(etb, context))\n",
            "                                          ^^^^^^^^^^^^^^^^^^^^^^^^^^^^^^^^^^^^\n",
            "  File \"/usr/lib/python3.11/inspect.py\", line 1739, in getinnerframes\n",
            "    traceback_info = getframeinfo(tb, context)\n",
            "                     ^^^^^^^^^^^^^^^^^^^^^^^^^\n",
            "  File \"/usr/lib/python3.11/inspect.py\", line 1684, in getframeinfo\n",
            "    filename = getsourcefile(frame) or getfile(frame)\n",
            "               ^^^^^^^^^^^^^^^^^^^^\n",
            "  File \"/usr/lib/python3.11/inspect.py\", line 948, in getsourcefile\n",
            "    module = getmodule(object, filename)\n",
            "             ^^^^^^^^^^^^^^^^^^^^^^^^^^^\n",
            "  File \"/usr/lib/python3.11/inspect.py\", line 988, in getmodule\n",
            "    if ismodule(module) and hasattr(module, '__file__'):\n",
            "                            ^^^^^^^^^^^^^^^^^^^^^^^^^^^\n",
            "KeyboardInterrupt\n"
          ]
        }
      ],
      "source": [
        "def fact(n):\n",
        "  if n==0 and n==1:\n",
        "    return 1\n",
        "  else:\n",
        "    return n*fact(n-1)\n",
        "\n",
        "n = int(input())\n",
        "if n<0:\n",
        "  raise valueError(\"invalid input\")\n",
        "else:\n",
        "  print(fact(n))"
      ]
    },
    {
      "cell_type": "code",
      "execution_count": null,
      "metadata": {
        "id": "g5v1PKX0fDAk"
      },
      "outputs": [],
      "source": [
        "m,n = map(int,input().split())\n",
        "matrix = []\n",
        "for i in range(m,n+1):\n",
        "  matrix.append(list(map(int,input().split())))\n",
        "print(matrix)"
      ]
    },
    {
      "cell_type": "code",
      "execution_count": null,
      "metadata": {
        "id": "wbbyBFCXfCur"
      },
      "outputs": [],
      "source": []
    }
  ],
  "metadata": {
    "colab": {
      "provenance": [],
      "authorship_tag": "ABX9TyO/OLM2SU+TOuqtoeSoMD8s",
      "include_colab_link": true
    },
    "kernelspec": {
      "display_name": "Python 3",
      "name": "python3"
    },
    "language_info": {
      "name": "python"
    }
  },
  "nbformat": 4,
  "nbformat_minor": 0
}