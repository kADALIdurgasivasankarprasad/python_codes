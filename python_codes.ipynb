{
  "nbformat": 4,
  "nbformat_minor": 0,
  "metadata": {
    "colab": {
      "provenance": [],
      "authorship_tag": "ABX9TyPr1NBLxiAI3RlG/mCuQbI0",
      "include_colab_link": true
    },
    "kernelspec": {
      "name": "python3",
      "display_name": "Python 3"
    },
    "language_info": {
      "name": "python"
    }
  },
  "cells": [
    {
      "cell_type": "markdown",
      "metadata": {
        "id": "view-in-github",
        "colab_type": "text"
      },
      "source": [
        "<a href=\"https://colab.research.google.com/github/kADALIdurgasivasankarprasad/python_codes/blob/main/python_codes.ipynb\" target=\"_parent\"><img src=\"https://colab.research.google.com/assets/colab-badge.svg\" alt=\"Open In Colab\"/></a>"
      ]
    },
    {
      "cell_type": "code",
      "execution_count": 5,
      "metadata": {
        "colab": {
          "base_uri": "https://localhost:8080/"
        },
        "id": "H5aUIAgUZfqo",
        "outputId": "e8ced409-b404-40bf-bf93-9d1f23fc084b"
      },
      "outputs": [
        {
          "output_type": "stream",
          "name": "stdout",
          "text": [
            "8\n",
            "1\n",
            "3\n",
            "4\n",
            "5\n"
          ]
        }
      ],
      "source": [
        "#loop control statements\n",
        "n = int(input())\n",
        "for i in range(1,n+1):\n",
        "    if(i==2):\n",
        "      continue\n",
        "    elif(i==6):\n",
        "      break\n",
        "    else:\n",
        "      print(i)\n",
        "\n"
      ]
    },
    {
      "cell_type": "code",
      "source": [
        "#armstrong number between two numbers\n",
        "x=int(input())\n",
        "y=int(input())\n",
        "for i in range(x,y+1):\n",
        "    sum = 0\n",
        "    temp=i\n",
        "    while temp>0:\n",
        "        digit=temp%10\n",
        "        sum=sum+digit**3\n",
        "        temp=temp//10\n",
        "    if i==sum:\n",
        "        print(i)\n"
      ],
      "metadata": {
        "colab": {
          "base_uri": "https://localhost:8080/"
        },
        "id": "c_OwzrOUdHHH",
        "outputId": "28082403-1735-41a7-f32f-0904a1e6d945"
      },
      "execution_count": 19,
      "outputs": [
        {
          "output_type": "stream",
          "name": "stdout",
          "text": [
            "99\n",
            "999\n",
            "153\n",
            "370\n",
            "371\n",
            "407\n"
          ]
        }
      ]
    },
    {
      "cell_type": "code",
      "source": [
        "#check the vowels are not\n",
        "a = input()\n",
        "b = \"aeiouAEIOU\"\n",
        "count = 0\n",
        "for i in a:\n",
        "  if i in b:\n",
        "    count = count+1\n",
        "print(count)"
      ],
      "metadata": {
        "colab": {
          "base_uri": "https://localhost:8080/"
        },
        "id": "DmvzwhqBkbx7",
        "outputId": "387650b6-b470-4222-860f-e64c46eae99e"
      },
      "execution_count": 28,
      "outputs": [
        {
          "output_type": "stream",
          "name": "stdout",
          "text": [
            "a,akajijfjkkjfjf\n",
            "4\n"
          ]
        }
      ]
    },
    {
      "cell_type": "code",
      "source": [
        "#factorial of number = given number\n",
        "n = int(input())\n",
        "sum = 0\n",
        "for i in str(n):\n",
        "  d = int(i)\n",
        "  fact=1\n",
        "  for j in range(1,d+1):\n",
        "    fact=fact*j\n",
        "  sum=sum+fact\n",
        "print(sum)\n",
        "\n"
      ],
      "metadata": {
        "colab": {
          "base_uri": "https://localhost:8080/"
        },
        "id": "N_6vv0afmClL",
        "outputId": "79ede73d-4a18-47dc-aecc-5603d512fbac"
      },
      "execution_count": 38,
      "outputs": [
        {
          "output_type": "stream",
          "name": "stdout",
          "text": [
            "143\n",
            "31\n"
          ]
        }
      ]
    },
    {
      "cell_type": "code",
      "source": [
        "# write a program to find the missing number in list\n",
        "l1 = [1,2,3,4,6,7,9,10]\n",
        "for i in range(1,11):\n",
        "  if i not in l1:\n",
        "    print(i)"
      ],
      "metadata": {
        "colab": {
          "base_uri": "https://localhost:8080/"
        },
        "id": "oSrM0nbIr0fa",
        "outputId": "6e097604-ebb0-437e-d3ac-e07414d22dba"
      },
      "execution_count": 39,
      "outputs": [
        {
          "output_type": "stream",
          "name": "stdout",
          "text": [
            "5\n",
            "8\n"
          ]
        }
      ]
    },
    {
      "cell_type": "code",
      "source": [
        "#sum of even numbers in given range\n",
        "n = int(input())\n",
        "sum = 0\n",
        "for i in range(1,n+1):\n",
        "  if i%2==0:\n",
        "    sum=sum+i\n",
        "print(sum)\n"
      ],
      "metadata": {
        "colab": {
          "base_uri": "https://localhost:8080/"
        },
        "id": "TX_gw0W-zkS3",
        "outputId": "0136cc5f-035e-4fc8-d55b-f9e5749fd816"
      },
      "execution_count": 43,
      "outputs": [
        {
          "output_type": "stream",
          "name": "stdout",
          "text": [
            "5\n",
            "6\n"
          ]
        }
      ]
    },
    {
      "cell_type": "code",
      "source": [
        "#palindrome by using for loop\n",
        "a = input()\n",
        "res=\" \"\n",
        "for i in range(len(a)-1,-1,-1):\n",
        "  res += a[i]\n",
        "if(a == res):\n",
        "  print(\"palindrome\")"
      ],
      "metadata": {
        "colab": {
          "base_uri": "https://localhost:8080/"
        },
        "id": "hVgeMMsa0eFO",
        "outputId": "e9db2ddb-081f-4e4d-b49b-8c5324f80ffd"
      },
      "execution_count": 46,
      "outputs": [
        {
          "output_type": "stream",
          "name": "stdout",
          "text": [
            "madam\n",
            "palindrome\n"
          ]
        }
      ]
    }
  ]
}